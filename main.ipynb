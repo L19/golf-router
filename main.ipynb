{
 "cells": [
  {
   "cell_type": "code",
   "execution_count": null,
   "metadata": {},
   "outputs": [],
   "source": [
    "import numpy as np\n",
    "import googlemaps\n",
    "\n",
    "from golf_router import router\n",
    "from golf_router.station_repository import StationRepository\n",
    "from golf_router.golf_course_repository import GolfCourseRepository\n",
    "\n",
    "# Google Maps API Key\n",
    "client = googlemaps.Client(key=\"your API key here\")\n",
    "\n",
    "sta_repo = StationRepository(\"data/dummy_station.csv\")\n",
    "golf_repo = GolfCourseRepository(\"data/dummy_golf_course.csv\")"
   ]
  },
  {
   "cell_type": "code",
   "execution_count": null,
   "metadata": {},
   "outputs": [],
   "source": [
    "NUM_TRIALS = 10\n",
    "TOP = 64\n",
    "\n",
    "golfs = golf_repo.read_all()\n",
    "\n",
    "top_01_64_counts = np.zeros(TOP)\n",
    "top_16_79_counts = np.zeros(TOP)\n",
    "top_31_94_counts = np.zeros(TOP)\n",
    "\n",
    "for i in range(NUM_TRIALS):\n",
    "    stas = sta_repo.read_randomly()\n",
    "\n",
    "    dists_dist = []\n",
    "    durations_gmaps = []\n",
    "\n",
    "    for golf in golfs:\n",
    "        _, dist_dist = router.find_route_by_distance(stas[0], stas[1:], golf)\n",
    "        dists_dist.append(dist_dist)\n",
    "        _, duration_gmaps = router.find_route_by_gmaps(client, stas[0], stas[1:], golf)\n",
    "        durations_gmaps.append(duration_gmaps)\n",
    "\n",
    "    sorted_dists_dist = np.argsort(dists_dist)\n",
    "    sorted_duras_gmap = np.argsort(durations_gmaps)\n",
    "\n",
    "    for i in range(TOP):\n",
    "        if sorted_duras_gmap[i] in sorted_dists_dist[:TOP]:\n",
    "            top_01_64_counts[i] += 1\n",
    "        if sorted_duras_gmap[i+15] in sorted_dists_dist[:TOP+15]:\n",
    "            top_16_79_counts[i] += 1\n",
    "        if sorted_duras_gmap[i+30] in sorted_dists_dist[:TOP+30]:\n",
    "            top_31_94_counts[i] += 1\n",
    "\n",
    "print(top_01_64_counts / NUM_TRIALS)\n",
    "print(top_16_79_counts / NUM_TRIALS)\n",
    "print(top_31_94_counts / NUM_TRIALS)"
   ]
  },
  {
   "cell_type": "code",
   "execution_count": null,
   "metadata": {},
   "outputs": [],
   "source": [
    "import matplotlib.pyplot as plt\n",
    "\n",
    "fig, axes = plt.subplots(3, 1)\n",
    "\n",
    "axes[0].bar(range(TOP), top_01_64_counts / NUM_TRIALS, edgecolor=\"white\", width=1.0)\n",
    "axes[1].bar(range(15, TOP+15), top_16_79_counts / NUM_TRIALS, edgecolor=\"white\", width=1.0)\n",
    "axes[2].bar(range(30, TOP+30), top_31_94_counts / NUM_TRIALS, edgecolor=\"white\", width=1.0)"
   ]
  }
 ],
 "metadata": {
  "kernelspec": {
   "display_name": "golf-router-FE3MZvmZ-py3.11",
   "language": "python",
   "name": "python3"
  },
  "language_info": {
   "codemirror_mode": {
    "name": "ipython",
    "version": 3
   },
   "file_extension": ".py",
   "mimetype": "text/x-python",
   "name": "python",
   "nbconvert_exporter": "python",
   "pygments_lexer": "ipython3",
   "version": "3.11.7"
  }
 },
 "nbformat": 4,
 "nbformat_minor": 2
}
